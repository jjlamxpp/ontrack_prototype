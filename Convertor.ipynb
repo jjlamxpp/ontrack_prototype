{
 "cells": [
  {
   "cell_type": "code",
   "execution_count": 1,
   "id": "3af40678-d727-46d1-80d8-77492d79f349",
   "metadata": {},
   "outputs": [
    {
     "data": {
      "text/html": [
       "<div>\n",
       "<style scoped>\n",
       "    .dataframe tbody tr th:only-of-type {\n",
       "        vertical-align: middle;\n",
       "    }\n",
       "\n",
       "    .dataframe tbody tr th {\n",
       "        vertical-align: top;\n",
       "    }\n",
       "\n",
       "    .dataframe thead th {\n",
       "        text-align: right;\n",
       "    }\n",
       "</style>\n",
       "<table border=\"1\" class=\"dataframe\">\n",
       "  <thead>\n",
       "    <tr style=\"text-align: right;\">\n",
       "      <th></th>\n",
       "      <th>Art and Humanities</th>\n",
       "      <th>AIE,AIS,ASE,ASI,ASR,IAC,IAE,ICA,IEA,IRE,SAR,SEI</th>\n",
       "    </tr>\n",
       "  </thead>\n",
       "  <tbody>\n",
       "    <tr>\n",
       "      <th>0</th>\n",
       "      <td>Building and Architecture</td>\n",
       "      <td>AIR,EAC,ECA,ECR,ECS,EIR,ERC,ERS,IAC,IAE,IAS,IC...</td>\n",
       "    </tr>\n",
       "    <tr>\n",
       "      <th>1</th>\n",
       "      <td>Business and Management</td>\n",
       "      <td>AES,ARI,ASE,CAE,CAI,CAR,CAS,CEA,CER,CIE,CRA,CR...</td>\n",
       "    </tr>\n",
       "    <tr>\n",
       "      <th>2</th>\n",
       "      <td>Economics</td>\n",
       "      <td>EAC,ECA,EIS,ESR,IAC,IAE,ICA,IEA,IES,IRE</td>\n",
       "    </tr>\n",
       "    <tr>\n",
       "      <th>3</th>\n",
       "      <td>Finance</td>\n",
       "      <td>CEI,EAC,ECA,ECI,ECS,EIC,EIS,ESI,ESR,ICA,ICE,IC...</td>\n",
       "    </tr>\n",
       "    <tr>\n",
       "      <th>4</th>\n",
       "      <td>Computing, Information and Multimedia Technology</td>\n",
       "      <td>AEI,AER,ASC,ASI,CAE,CAI,CAR,CAS,CEA,CRA,CRE,EA...</td>\n",
       "    </tr>\n",
       "  </tbody>\n",
       "</table>\n",
       "</div>"
      ],
      "text/plain": [
       "                                 Art and Humanities  \\\n",
       "0                         Building and Architecture   \n",
       "1                           Business and Management   \n",
       "2                                         Economics   \n",
       "3                                           Finance   \n",
       "4  Computing, Information and Multimedia Technology   \n",
       "\n",
       "     AIE,AIS,ASE,ASI,ASR,IAC,IAE,ICA,IEA,IRE,SAR,SEI  \n",
       "0  AIR,EAC,ECA,ECR,ECS,EIR,ERC,ERS,IAC,IAE,IAS,IC...  \n",
       "1  AES,ARI,ASE,CAE,CAI,CAR,CAS,CEA,CER,CIE,CRA,CR...  \n",
       "2            EAC,ECA,EIS,ESR,IAC,IAE,ICA,IEA,IES,IRE  \n",
       "3  CEI,EAC,ECA,ECI,ECS,EIC,EIS,ESI,ESR,ICA,ICE,IC...  \n",
       "4  AEI,AER,ASC,ASI,CAE,CAI,CAR,CAS,CEA,CRA,CRE,EA...  "
      ]
     },
     "execution_count": 1,
     "metadata": {},
     "output_type": "execute_result"
    }
   ],
   "source": [
    "import pandas as pd\n",
    "import yaml\n",
    "\n",
    "# Load the Excel file to examine its structure\n",
    "excel_path = 'Holland_industry.xlsx'\n",
    "df = pd.read_excel(excel_path)\n",
    "\n",
    "# Display the first few rows of the DataFrame to understand its content\n",
    "df.head()"
   ]
  },
  {
   "cell_type": "code",
   "execution_count": 3,
   "id": "268338e3-0e20-4267-9661-89afcbc4eae8",
   "metadata": {},
   "outputs": [
    {
     "data": {
      "text/plain": [
       "'- holland_codes:\\n  - AIR\\n  - EAC\\n  - ECA\\n  - ECR\\n  - ECS\\n  - EIR\\n  - ERC\\n  - ERS\\n  - IAC\\n  - IAE\\n  - IAS\\n  - ICA\\n  - ICE\\n  - IEA\\n  - IER\\n  - IRC\\n  - IRE\\n  - ISR\\n  - RAE\\n  - REA\\n  - REC\\n  - RES\\n  - RIC\\n  - RIE\\n  - RSI\\n  - SAR\\n  - SEC\\n  - SEI\\n  industry: Building and Architecture\\n- holland_codes:\\n  - AES\\n  - ARI\\n  - ASE\\n  - CAE\\n  - CAI\\n  - CAR\\n  - CAS\\n  - CEA\\n  - CER\\n  - CIE\\n  - CRA\\n  - CRI\\n  - CRS\\n  - CSA\\n  - CSI\\n  - CSR\\n  - EAC\\n  - EAI\\n  - EAR\\n  - ECA\\n  - ECI\\n  - EIA\\n  - EIR\\n  - EIS\\n  - ERA\\n  - ERC\\n  - ERI\\n  - ESA\\n  - ESC\\n  - ESI\\n  - ESR\\n  - IAC\\n  - IAE\\n  - ICA\\n  - IEA\\n  - IER\\n  - RAC\\n  - RAE\\n  - REC\\n  - SAR\\n  - SEA\\n  - SEC\\n  - SEI\\n  - SER\\n  - SRC\\n  industry: Business and Management\\n- holland_codes:\\n  - EAC\\n  - ECA\\n  - EIS\\n  - ESR\\n  - IAC\\n  - IAE\\n  - ICA\\n  - IEA\\n  - IES\\n  - IRE\\n  industry: Economics\\n- holland_codes:\\n  - CEI\\n  - EAC\\n  - ECA\\n  - ECI\\n  - ECS\\n  - EIC\\n  - EIS\\n  - ESI\\n  - ESR\\n  - ICA\\n  - ICE\\n  - ICR\\n  - IEA\\n  - ISA\\n  - ISR\\n  - SAR\\n  - SCE\\n  industry: Finance\\n- holland_codes:\\n  - AEI\\n  - AER\\n  - ASC\\n  - ASI\\n  - CAE\\n  - CAI\\n  - CAR\\n  - CAS\\n  - CEA\\n  - CRA\\n  - CRE\\n  - EAC\\n  - ECA\\n  - ECS\\n  - EIC\\n  - IAC\\n  - IAE\\n  - ICA\\n  - ICR\\n  - IEA\\n  - IEC\\n  - IER\\n  - IRC\\n  - IRE\\n  - IRS\\n  - RAC\\n  - RAE\\n  - REA\\n  - REI\\n  - RIC\\n  - RIE\\n  - RIS\\n  - RSC\\n  - RSE\\n  industry: Computing, Information and Multimedia Technology\\n- holland_codes:\\n  - ASE\\n  - EAC\\n  - ECA\\n  - EIS\\n  - ESC\\n  - ESR\\n  - IAC\\n  - IAE\\n  - ICA\\n  - IEA\\n  - ISE\\n  - REI\\n  - SAR\\n  - SCE\\n  - SEC\\n  - SER\\n  - SIA\\n  - SIE\\n  - SIR\\n  - SRE\\n  industry: Education\\n- holland_codes:\\n  - AEC\\n  - AEI\\n  - AER\\n  - AES\\n  - AIE\\n  - ARE\\n  - ARI\\n  - ARS\\n  - ASC\\n  - ASE\\n  - ASI\\n  - ASR\\n  - EAC\\n  - EAS\\n  - ECA\\n  - IAC\\n  - IAE\\n  - IAS\\n  - ICA\\n  - IEA\\n  - RAE\\n  industry: Fashion and Design\\n- holland_codes:\\n  - EAC\\n  - EAS\\n  - ECA\\n  - IAR\\n  - IAS\\n  - ICA\\n  - IEA\\n  - IES\\n  - SAR\\n  - SEI\\n  industry: Government and Public Administration\\n- holland_codes:\\n  - IAC\\n  - IAE\\n  - ICA\\n  - IEA\\n  - ISA\\n  industry: Hospitality and Tourism\\n- holland_codes:\\n  - AES\\n  - ASE\\n  - ASI\\n  - SAR\\n  - SEA\\n  industry: Journalism\\n- holland_codes:\\n  - AEI\\n  - AER\\n  - AES\\n  - AIE\\n  - ARE\\n  - ARS\\n  - ASC\\n  - ASR\\n  - CAE\\n  - CAI\\n  - CAR\\n  - CAS\\n  - CEA\\n  - CIA\\n  - CRA\\n  - CSA\\n  - IAC\\n  - IAE\\n  - ICA\\n  - IEA\\n  - IRC\\n  - RAC\\n  - REA\\n  - RIA\\n  - SAR\\n  - SCE\\n  - SEC\\n  industry: Creative Media\\n- holland_codes:\\n  - CAE\\n  - CAI\\n  - CAR\\n  - CAS\\n  - CEA\\n  - CIR\\n  - CRA\\n  - EAC\\n  - ECA\\n  - ESA\\n  - ESI\\n  - ESR\\n  - RAC\\n  - SAR\\n  - SCE\\n  - SCR\\n  - SEA\\n  - SEI\\n  - SER\\n  - SIC\\n  industry: Law, Public Safety, Correction and Security\\n- holland_codes:\\n  - AIE\\n  - CAE\\n  - CAI\\n  - CAR\\n  - CAS\\n  - CEA\\n  - CES\\n  - CRA\\n  - IAC\\n  - IAE\\n  - ICA\\n  - IEA\\n  - IRA\\n  - IRE\\n  - IRS\\n  - ISA\\n  - ISC\\n  - ISE\\n  - ISR\\n  - RAC\\n  - SAC\\n  - SAI\\n  - SAR\\n  - SCR\\n  - SEC\\n  - SIA\\n  - SIC\\n  - SIE\\n  - SIR\\n  - SRC\\n  industry: Medicine and Dentistry\\n- holland_codes:\\n  - IAC\\n  - IAE\\n  - ICA\\n  - ICS\\n  - IEA\\n  - IER\\n  - IRE\\n  - IRS\\n  - ISA\\n  - ISC\\n  - ISE\\n  - SAR\\n  - SCR\\n  - SER\\n  - SIC\\n  - SIE\\n  - SRA\\n  - SRC\\n  - SRI\\n  industry: Health Science\\n- holland_codes:\\n  - EAC\\n  - EAS\\n  - ECA\\n  - SAR\\n  - SRE\\n  industry: Music\\n- holland_codes:\\n  - AIS\\n  - IAR\\n  - IAS\\n  - ICA\\n  - IEA\\n  - IES\\n  - SAR\\n  - SEA\\n  - SEI\\n  industry: Philosophy and Religious study\\n- holland_codes:\\n  - AEI\\n  - AIE\\n  - EAC\\n  - ECA\\n  - EIR\\n  - IAC\\n  - IAE\\n  - IAR\\n  - IAS\\n  - ICA\\n  - IEA\\n  - IER\\n  - IES\\n  - IRC\\n  - IRE\\n  - IRS\\n  - ISC\\n  - ISR\\n  - RAI\\n  - REI\\n  - RES\\n  - RIS\\n  - RSI\\n  industry: Science\\n- holland_codes:\\n  - CAE\\n  - CAI\\n  - CAR\\n  - CAS\\n  - CEA\\n  - CIS\\n  - CRA\\n  - CSA\\n  - IAR\\n  - IAS\\n  - ICA\\n  - IEA\\n  - IES\\n  - RAC\\n  - SAR\\n  - SCE\\n  - SEC\\n  - SIE\\n  industry: Social Science\\n- holland_codes:\\n  - EAC\\n  - ECA\\n  - ESA\\n  - SAR\\n  - SCI\\n  - SEA\\n  - SEC\\n  - SEI\\n  industry: Social Work\\n- holland_codes:\\n  - EAC\\n  - ECA\\n  - ECS\\n  - IAR\\n  - IAS\\n  - ICA\\n  - ICE\\n  - IEA\\n  - IEC\\n  industry: Transportation, Distribution and Logistics\\n- holland_codes:\\n  - EAC\\n  - ECA\\n  - EIC\\n  - EIR\\n  - ERI\\n  - IAC\\n  - IAE\\n  - ICA\\n  - ICR\\n  - IEA\\n  - IEC\\n  - IER\\n  - IRC\\n  - IRE\\n  - IRS\\n  - ISE\\n  - ISR\\n  - RAI\\n  - REI\\n  - RES\\n  - RIC\\n  - RIE\\n  - RIS\\n  - RSI\\n  industry: Engineering\\n- holland_codes:\\n  - IAR\\n  - IAS\\n  - ICA\\n  - ICS\\n  - IEA\\n  - IES\\n  industry: Mathematics\\n'"
      ]
     },
     "execution_count": 3,
     "metadata": {},
     "output_type": "execute_result"
    }
   ],
   "source": [
    "# Convert the DataFrame into a suitable dictionary format for YAML\n",
    "industry_mapping = []\n",
    "\n",
    "for index, row in df.iterrows():\n",
    "    industry = row.iloc[0]  # The industry name\n",
    "    holland_codes = row.iloc[1].split(',')  # The associated Holland Codes, split by comma\n",
    "    industry_mapping.append({\n",
    "        'industry': industry,\n",
    "        'holland_codes': holland_codes\n",
    "    })\n",
    "\n",
    "# Save the dictionary as a YAML file\n",
    "yaml_path = 'industry_mapping.yaml'\n",
    "with open(yaml_path, 'w') as file:\n",
    "    yaml.dump(industry_mapping, file, default_flow_style=False)\n",
    "\n",
    "# Display the generated YAML content for verification\n",
    "with open(yaml_path, 'r') as file:\n",
    "    generated_yaml = file.read()\n",
    "\n",
    "generated_yaml"
   ]
  },
  {
   "cell_type": "code",
   "execution_count": null,
   "id": "97e1c35f-078c-420b-bb3a-9e08da27f961",
   "metadata": {},
   "outputs": [],
   "source": []
  }
 ],
 "metadata": {
  "kernelspec": {
   "display_name": "Python 3 (ipykernel)",
   "language": "python",
   "name": "python3"
  },
  "language_info": {
   "codemirror_mode": {
    "name": "ipython",
    "version": 3
   },
   "file_extension": ".py",
   "mimetype": "text/x-python",
   "name": "python",
   "nbconvert_exporter": "python",
   "pygments_lexer": "ipython3",
   "version": "3.12.4"
  }
 },
 "nbformat": 4,
 "nbformat_minor": 5
}
